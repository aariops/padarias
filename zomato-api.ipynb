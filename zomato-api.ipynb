{
 "cells": [
  {
   "cell_type": "markdown",
   "metadata": {},
   "source": [
    "# Using Zomato API to get all the Padarias"
   ]
  },
  {
   "cell_type": "code",
   "execution_count": 4,
   "metadata": {},
   "outputs": [],
   "source": [
    "# import libraries\n",
    "import requests\n",
    "import pandas as pd\n",
    "import config"
   ]
  },
  {
   "cell_type": "code",
   "execution_count": 5,
   "metadata": {},
   "outputs": [],
   "source": [
    "# I got this from just testing the endpoints at the zomato API website\n",
    "lisbon_id = '82'\n",
    "\n",
    "# define requests function\n",
    "def make_request(url):\n",
    "    r = requests.get(url, headers={'user-key': config.api_key})\n",
    "    print('Response OK?', r.ok)\n",
    "    return r.json()"
   ]
  },
  {
   "cell_type": "code",
   "execution_count": 6,
   "metadata": {},
   "outputs": [],
   "source": [
    "# they only provide 20 restaurant results at a time, up to a maximum of 100.\n",
    "# so we need to make 5 requests from 0-100\n",
    "search_url = ['https://developers.zomato.com/api/v2.1/search?entity_id=82&entity_type=city&q=padaria%20portuguesa&start=' + str(i*20) + '&count=20' for i in range(5)]"
   ]
  },
  {
   "cell_type": "code",
   "execution_count": 7,
   "metadata": {},
   "outputs": [
    {
     "name": "stdout",
     "output_type": "stream",
     "text": [
      "Response OK? True\n",
      "Response OK? True\n",
      "Response OK? True\n",
      "Response OK? True\n",
      "Response OK? True\n"
     ]
    }
   ],
   "source": [
    "# grab all the json responses\n",
    "data = []\n",
    "for url in search_url:\n",
    "    result = make_request(url)\n",
    "    data += [pd.json_normalize(result['restaurants'])]   "
   ]
  },
  {
   "cell_type": "code",
   "execution_count": 8,
   "metadata": {},
   "outputs": [],
   "source": [
    "# concatenate into a single dataframe\n",
    "padarias = pd.concat(data)"
   ]
  },
  {
   "cell_type": "code",
   "execution_count": 9,
   "metadata": {},
   "outputs": [],
   "source": [
    "# grab only the restaurants we want\n",
    "padarias = padarias[padarias['restaurant.name'].str.contains('A Padaria Portuguesa')]"
   ]
  },
  {
   "cell_type": "code",
   "execution_count": 10,
   "metadata": {},
   "outputs": [],
   "source": [
    "# save to file\n",
    "#padarias.to_csv('padarias.csv')"
   ]
  }
 ],
 "metadata": {
  "kernelspec": {
   "display_name": "Python 3",
   "language": "python",
   "name": "python3"
  },
  "language_info": {
   "codemirror_mode": {
    "name": "ipython",
    "version": 3
   },
   "file_extension": ".py",
   "mimetype": "text/x-python",
   "name": "python",
   "nbconvert_exporter": "python",
   "pygments_lexer": "ipython3",
   "version": "3.7.7"
  }
 },
 "nbformat": 4,
 "nbformat_minor": 4
}
