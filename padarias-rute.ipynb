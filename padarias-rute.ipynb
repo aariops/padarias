{
 "cells": [
  {
   "cell_type": "markdown",
   "metadata": {},
   "source": [
    "# DGPC Geolocation"
   ]
  },
  {
   "cell_type": "code",
   "execution_count": 3,
   "metadata": {},
   "outputs": [
    {
     "ename": "ModuleNotFoundError",
     "evalue": "No module named 'geopanda'",
     "output_type": "error",
     "traceback": [
      "\u001b[0;31m---------------------------------------------------------------------------\u001b[0m",
      "\u001b[0;31mModuleNotFoundError\u001b[0m                       Traceback (most recent call last)",
      "\u001b[0;32m<ipython-input-3-967fc7ae2d6c>\u001b[0m in \u001b[0;36m<module>\u001b[0;34m\u001b[0m\n\u001b[1;32m      2\u001b[0m \u001b[0;32mimport\u001b[0m \u001b[0mpandas\u001b[0m \u001b[0;32mas\u001b[0m \u001b[0mpd\u001b[0m\u001b[0;34m\u001b[0m\u001b[0;34m\u001b[0m\u001b[0m\n\u001b[1;32m      3\u001b[0m \u001b[0;32mfrom\u001b[0m \u001b[0mshapely\u001b[0m\u001b[0;34m.\u001b[0m\u001b[0mgeometry\u001b[0m \u001b[0;32mimport\u001b[0m \u001b[0mPolygon\u001b[0m\u001b[0;34m,\u001b[0m \u001b[0mPoint\u001b[0m\u001b[0;34m\u001b[0m\u001b[0;34m\u001b[0m\u001b[0m\n\u001b[0;32m----> 4\u001b[0;31m \u001b[0;32mimport\u001b[0m \u001b[0mgeopanda\u001b[0m \u001b[0;32mas\u001b[0m \u001b[0mgpd\u001b[0m\u001b[0;34m\u001b[0m\u001b[0;34m\u001b[0m\u001b[0m\n\u001b[0m\u001b[1;32m      5\u001b[0m \u001b[0;32mimport\u001b[0m \u001b[0mmatplotlib\u001b[0m\u001b[0;34m.\u001b[0m\u001b[0mpyplot\u001b[0m \u001b[0;32mas\u001b[0m \u001b[0mplt\u001b[0m\u001b[0;34m\u001b[0m\u001b[0;34m\u001b[0m\u001b[0m\n\u001b[1;32m      6\u001b[0m \u001b[0;32mimport\u001b[0m \u001b[0mwarnings\u001b[0m\u001b[0;34m\u001b[0m\u001b[0;34m\u001b[0m\u001b[0m\n",
      "\u001b[0;31mModuleNotFoundError\u001b[0m: No module named 'geopanda'"
     ]
    }
   ],
   "source": [
    "# classic import\n",
    "import pandas as pd\n",
    "from shapely.geometry import Polygon, Point\n",
    "import geopandas as gpd\n",
    "import matplotlib.pyplot as plt\n",
    "import warnings\n",
    "import sys\n",
    "import matplotlib as mpl\n",
    "warnings.simplefilter('ignore')"
   ]
  },
  {
   "cell_type": "code",
   "execution_count": 2,
   "metadata": {},
   "outputs": [],
   "source": [
    "\n",
    "# import local functions\n",
    "path_to_functions = './plotting.py'\n",
    "sys.path.append(path_to_functions)\n",
    "from plotting import default_plot, get_colors"
   ]
  },
  {
   "cell_type": "code",
   "execution_count": 3,
   "metadata": {},
   "outputs": [],
   "source": [
    "# matplotlib formatting\n",
    "small = 10\n",
    "medium = 12\n",
    "large = 14\n",
    "\n",
    "plt.rc('font', size=small)         # controls default text sizes\n",
    "plt.rc('axes', titlesize=small)     # fontsize of the axes title\n",
    "plt.rc('axes', labelsize=small)     # fontsize of the x and y labels\n",
    "plt.rc('xtick', labelsize=small)   # fontsize of the tick labels\n",
    "plt.rc('ytick', labelsize=small)   # fontsize of the tick labels\n",
    "plt.rc('legend', fontsize=small)   # legend fontsize\n",
    "plt.rc('figure', titlesize=large)   # fontsize of the figure title\n",
    "mpl.rcParams['font.family'] = \"sans-serif\"\n",
    "mpl.rcParams['font.sans-serif'] = \"Arial\"\n",
    "mpl.rcParams['axes.linewidth'] = 0.5\n",
    "mpl.rcParams['xtick.major.width'] = 0.5\n",
    "mpl.rcParams['ytick.major.width'] = 0.5   "
   ]
  },
  {
   "cell_type": "code",
   "execution_count": 4,
   "metadata": {},
   "outputs": [],
   "source": [
    "# define functions\n",
    "\n",
    "def horizontal_bar(data, rotation=0, name='figures/default_categorical_bar', save=False):\n",
    "    \n",
    "    # makes a categorical bar plot\n",
    "    # input data has to be a dataframe with 3 columns\n",
    "    # column 0 contains the labels that go on the x-axis (already pre-formatted)\n",
    "    # column 1 contains the values\n",
    "    # column 2 contains the colors\n",
    "    # the title of the value-columns contains the label for the Y-axis\n",
    "    # the name variable should contain path and filename to save to file\n",
    "    \n",
    "    data = data[::-1]\n",
    "    \n",
    "    size_dict = {4:4,\n",
    "                 17:8}\n",
    "    \n",
    "    labels = list(data[data.columns[0]])\n",
    "    labels = [str(len(labels) - i) + '. ' + labels[i] for i in range(len(labels))]\n",
    "    values = list(data[data.columns[1]])\n",
    "\n",
    "    fig, ax = plt.subplots(figsize=(6, 6))\n",
    "    ax = default_plot(ax, ['left'])\n",
    "    x = range(len(values))\n",
    "    \n",
    "    ax.yaxis.set_tick_params(length=0)\n",
    "    ax.spines['left'].set_visible(False)\n",
    "    \n",
    "    plt.ylim(-0.45, len(values) - 0.45)\n",
    "    #plt.xlim(0, 1)\n",
    "\n",
    "    xlabel = data.columns[1].replace('_',' ').title()\n",
    "    ylabel = data.columns[0].replace('_',' ').title()\n",
    "\n",
    "    plt.xlabel(xlabel)\n",
    "    plt.yticks(x, labels)\n",
    "\n",
    "    plt.vlines([10000, 20000, 30000], 0, 23, lw=.5, ls='dashed', alpha=.5, zorder=0)\n",
    "    plt.barh(x, values, height=.9, color=data.colors, edgecolor='k', lw=.5)\n",
    "    \n",
    "    if save:\n",
    "        plt.tight_layout()\n",
    "        plt.savefig(name + '.png', dpi=100)\n",
    "    \n",
    "    plt.show()\n"
   ]
  },
  {
   "cell_type": "code",
   "execution_count": null,
   "metadata": {},
   "outputs": [],
   "source": [
    "# open data\n",
    "concelhos = gp.read_file('dados/concelhos.shp', encoding='utf-8')\n",
    "pontos_interesse = pd.read_csv('dados/wiki-patrimonio-cult-portugal.csv')\n",
    "\n",
    "population = pd.read_excel('dados/PORDATA-INE-populacao-concelho-2018.xlsx')\n",
    "\n",
    "#population = population[(population['CODIGO'] == \"'1106'\") & (population['NOME'] != 'Lisboa')].reset_index()\n"
   ]
  },
  {
   "cell_type": "code",
   "execution_count": null,
   "metadata": {},
   "outputs": [],
   "source": [
    "#exploração de dados\n",
    "\n",
    "pontos_interesse.head()"
   ]
  },
  {
   "cell_type": "code",
   "execution_count": null,
   "metadata": {},
   "outputs": [],
   "source": [
    "# add population values to freguesias dataset\n",
    "pop_map = pd.Series(population.POP.values, index=population.NOME).to_dict()\n",
    "freguesias['POP'] = freguesias['NOME'].map(pop_map)"
   ]
  },
  {
   "cell_type": "code",
   "execution_count": null,
   "metadata": {},
   "outputs": [],
   "source": [
    "# change projection to 2D in meters\n",
    "freguesias = freguesias.to_crs('EPSG:3763')"
   ]
  },
  {
   "cell_type": "code",
   "execution_count": null,
   "metadata": {
    "scrolled": true
   },
   "outputs": [],
   "source": [
    "# transform Zomato data into GeoDataFrame\n",
    "padarias = gp.GeoDataFrame(padarias, geometry=gp.points_from_xy(padarias['restaurant.location.longitude'], padarias['restaurant.location.latitude']))\n",
    "\n",
    "# transform from naive coordinates to the actual CRS system they are in.\n",
    "padarias.crs = {'init' :'EPSG:4326'}\n",
    "\n",
    "# re-project to the same as the Lisbon map\n",
    "padarias = padarias.to_crs('EPSG:3763')"
   ]
  },
  {
   "cell_type": "code",
   "execution_count": null,
   "metadata": {},
   "outputs": [],
   "source": [
    "# remove points outside the city\n",
    "padarias = padarias[padarias.geometry.within(freguesias.unary_union)]"
   ]
  },
  {
   "cell_type": "code",
   "execution_count": null,
   "metadata": {},
   "outputs": [],
   "source": [
    "# plot base map and restaurant locations\n",
    "base = freguesias.plot(figsize=(6, 6), facecolor='#34495e', edgecolor='black', linewidth= 1.5, alpha=.1)\n",
    "padarias.plot(ax=base, marker='o', color='#e74c3c', markersize=40, edgecolor='k', linewidth=.5)\n",
    "base.axis('off');\n",
    "base.margins(0)\n",
    "base.tick_params(left=False, labelleft=False, bottom=False, labelbottom=False)\n",
    "#plt.savefig('figures/basemap_locations.png', dpi=100, bbox_inches='tight', pad_inches=0)"
   ]
  },
  {
   "cell_type": "code",
   "execution_count": null,
   "metadata": {},
   "outputs": [],
   "source": [
    "# compute the 500m radius\n",
    "circles = padarias.buffer(500)"
   ]
  },
  {
   "cell_type": "code",
   "execution_count": null,
   "metadata": {},
   "outputs": [],
   "source": [
    "# compute intersection between basemap and radiuses\n",
    "intersection = circles.unary_union.intersection(freguesias.unary_union)"
   ]
  },
  {
   "cell_type": "code",
   "execution_count": null,
   "metadata": {},
   "outputs": [],
   "source": [
    "# plot new map\n",
    "base = freguesias.plot(figsize=(6, 6), facecolor='#34495e', edgecolor='black', linewidth= 1.5, alpha=.1)\n",
    "gp.GeoSeries(intersection).plot(ax=base, facecolor='none', edgecolor='k', lw=1, ls='dashed')\n",
    "gp.GeoSeries(intersection).plot(ax=base, facecolor='#e74c3c', alpha=.4)\n",
    "base.axis('off');\n",
    "base.margins(0)\n",
    "base.tick_params(left=False, labelleft=False, bottom=False, labelbottom=False)\n",
    "plt.savefig('figures/area_difference_thumb.png', dpi=100, bbox_inches='tight', pad_inches=0, transparent=True)"
   ]
  },
  {
   "cell_type": "code",
   "execution_count": null,
   "metadata": {},
   "outputs": [],
   "source": [
    "# compute percentage of area covered\n",
    "area_covered = intersection.area/freguesias.unary_union.area\n",
    "print(area_covered)"
   ]
  },
  {
   "cell_type": "code",
   "execution_count": null,
   "metadata": {},
   "outputs": [],
   "source": [
    "# calculate insersection for each freguesia\n",
    "intersections_all = freguesias['geometry'].intersection(circles.unary_union)"
   ]
  },
  {
   "cell_type": "code",
   "execution_count": null,
   "metadata": {},
   "outputs": [],
   "source": [
    "# compute area coverr for each freguesia\n",
    "freguesias['area_covered'] = intersections_all.area/freguesias.area"
   ]
  },
  {
   "cell_type": "code",
   "execution_count": null,
   "metadata": {},
   "outputs": [],
   "source": [
    "# calculate population reached\n",
    "freguesias['population_reached'] = freguesias['POP'] * freguesias['area_covered']\n",
    "freguesias.sort_values(by='population_reached', ascending=False, inplace=True, ignore_index=True)\n",
    "\n",
    "# grab colors\n",
    "freguesias['colors'] = get_colors('viridis_r', freguesias.shape[0], plot=False)"
   ]
  },
  {
   "cell_type": "code",
   "execution_count": null,
   "metadata": {},
   "outputs": [],
   "source": [
    "# make categorical and horizontal barplot\n",
    "horizontal_bar(freguesias[['NOME', 'population_reached', 'colors']], save=True)"
   ]
  },
  {
   "cell_type": "code",
   "execution_count": null,
   "metadata": {},
   "outputs": [],
   "source": [
    "# get representative coordinate for each freguesia\n",
    "freguesias['coords'] = freguesias['geometry'].apply(lambda x: x.representative_point().coords[:])\n",
    "freguesias['coords'] = [coords[0] for coords in freguesias['coords']]\n",
    "\n",
    "# plot annotated map\n",
    "base = freguesias.plot(figsize=(6, 6), facecolor=freguesias['colors'], edgecolor='black', linewidth= .5, alpha=1)\n",
    "\n",
    "# make number annotations\n",
    "for idx, row in freguesias.iterrows():\n",
    "    plt.annotate(s=str(idx+1), \n",
    "                 xy=row['coords'], \n",
    "                 horizontalalignment='center', \n",
    "                 bbox=dict(facecolor='white', edgecolor='black', lw=.3, boxstyle='round,pad=.3'))\n",
    "    \n",
    "base.axis('off');\n",
    "base.margins(0)\n",
    "base.tick_params(left=False, labelleft=False, bottom=False, labelbottom=False)\n",
    "plt.savefig('figures/freguesias_choropleth.png', dpi=100, bbox_inches='tight', pad_inches=0, transparent=True)"
   ]
  },
  {
   "cell_type": "code",
   "execution_count": null,
   "metadata": {},
   "outputs": [],
   "source": [
    "# compute population proportion\n",
    "freguesias['population_reached'].sum()/freguesias['POP'].sum()"
   ]
  },
  {
   "cell_type": "code",
   "execution_count": null,
   "metadata": {},
   "outputs": [],
   "source": [
    "freguesias['density'] = freguesias['POP']/freguesias['AREA_M2']"
   ]
  },
  {
   "cell_type": "code",
   "execution_count": null,
   "metadata": {},
   "outputs": [],
   "source": [
    "freguesias[['NOME','density','area_covered']].sort_values(by='are')"
   ]
  },
  {
   "cell_type": "code",
   "execution_count": null,
   "metadata": {},
   "outputs": [],
   "source": []
  }
 ],
 "metadata": {
  "kernelspec": {
   "display_name": "Python 3",
   "language": "python",
   "name": "python3"
  },
  "language_info": {
   "codemirror_mode": {
    "name": "ipython",
    "version": 3
   },
   "file_extension": ".py",
   "mimetype": "text/x-python",
   "name": "python",
   "nbconvert_exporter": "python",
   "pygments_lexer": "ipython3",
   "version": "3.7.7"
  }
 },
 "nbformat": 4,
 "nbformat_minor": 4
}
